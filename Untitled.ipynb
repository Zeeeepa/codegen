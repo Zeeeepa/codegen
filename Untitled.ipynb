{
 "cells": [
  {
   "cell_type": "code",
   "execution_count": 1,
   "id": "f96bace1-c4d2-4e62-8acd-100f6768e3c8",
   "metadata": {
    "execution": {
     "iopub.execute_input": "2025-01-23T20:52:58.168870Z",
     "iopub.status.busy": "2025-01-23T20:52:58.168456Z",
     "iopub.status.idle": "2025-01-23T20:52:58.172382Z",
     "shell.execute_reply": "2025-01-23T20:52:58.171633Z",
     "shell.execute_reply.started": "2025-01-23T20:52:58.168840Z"
    }
   },
   "outputs": [],
   "source": [
    "from graph_sitter.fetch_codebase import fetch_codebase"
   ]
  },
  {
   "cell_type": "code",
   "execution_count": 3,
   "id": "9473109d-c706-4727-aded-83a8d1b6a67f",
   "metadata": {
    "execution": {
     "iopub.execute_input": "2025-01-23T21:03:52.789261Z",
     "iopub.status.busy": "2025-01-23T21:03:52.788962Z",
     "iopub.status.idle": "2025-01-23T21:03:52.792016Z",
     "shell.execute_reply": "2025-01-23T21:03:52.791464Z",
     "shell.execute_reply.started": "2025-01-23T21:03:52.789240Z"
    }
   },
   "outputs": [],
   "source": [
    "from graph_sitter.core.codebase import Codebase"
   ]
  },
  {
   "cell_type": "code",
   "execution_count": null,
   "id": "38ff2a15-0b82-46c4-9ca1-eed46d8b98be",
   "metadata": {},
   "outputs": [],
   "source": [
    "def delete_dead_code(codebase: "
   ]
  }
 ],
 "metadata": {
  "kernelspec": {
   "display_name": "Python 3 (ipykernel)",
   "language": "python",
   "name": "python3"
  },
  "language_info": {
   "codemirror_mode": {
    "name": "ipython",
    "version": 3
   },
   "file_extension": ".py",
   "mimetype": "text/x-python",
   "name": "python",
   "nbconvert_exporter": "python",
   "pygments_lexer": "ipython3",
   "version": "3.12.7"
  }
 },
 "nbformat": 4,
 "nbformat_minor": 5
}
