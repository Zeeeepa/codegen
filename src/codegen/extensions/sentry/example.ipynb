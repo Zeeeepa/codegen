{
 "cells": [
  {
   "cell_type": "markdown",
   "metadata": {},
   "source": [
    "# Sentry Integration Example\n",
    "\n",
    "This notebook demonstrates how to use the Sentry integration in Codegen."
   ]
  },
  {
   "cell_type": "markdown",
   "metadata": {},
   "source": [
    "## Setup\n",
    "\n",
    "First, let's import the necessary modules and set up the environment."
   ]
  },
  {
   "cell_type": "code",
   "execution_count": null,
   "metadata": {},
   "outputs": [],
   "source": [
    "import os\n",
    "from codegen.extensions.sentry.sentry_client import SentryClient\n",
    "from codegen.extensions.sentry.config import get_available_organizations\n",
    "from codegen.extensions.tools.sentry.tools import (\n",
    "    view_sentry_issues,\n",
    "    view_sentry_issue_details,\n",
    "    view_sentry_event_details,\n",
    ")\n",
    "from codegen.sdk.core.codebase import Codebase"
   ]
  },
  {
   "cell_type": "markdown",
   "metadata": {},
   "source": [
    "## Environment Variables\n",
    "\n",
    "Make sure you have the following environment variables set:\n",
    "\n",
    "- `SENTRY_AUTH_TOKEN`: Your Sentry auth token\n",
    "- `SENTRY_CODEGEN_INSTALLATION_UUID`: The installation UUID for the Codegen Sentry account\n",
    "- `SENTRY_RAMP_INSTALLATION_UUID`: The installation UUID for the Ramp Sentry account (if applicable)"
   ]
  },
  {
   "cell_type": "code",
   "execution_count": null,
   "metadata": {},
   "outputs": [],
   "source": [
    "# Check available organizations\n",
    "available_orgs = get_available_organizations()\n",
    "print(f\"Available organizations: {available_orgs}\")"
   ]
  },
  {
   "cell_type": "markdown",
   "metadata": {},
   "source": [
    "## Initialize Codebase\n",
    "\n",
    "We need a Codebase instance to use the tools."
   ]
  },
  {
   "cell_type": "code",
   "execution_count": null,
   "metadata": {},
   "outputs": [],
   "source": [
    "# Initialize a codebase (can be any codebase)\n",
    "codebase = Codebase.from_local(\"./\")"
   ]
  },
  {
   "cell_type": "markdown",
   "metadata": {},
   "source": [
    "## View Sentry Issues\n",
    "\n",
    "Let's view some Sentry issues for the Codegen organization."
   ]
  },
  {
   "cell_type": "code",
   "execution_count": null,
   "metadata": {},
   "outputs": [],
   "source": [
    "# View unresolved issues for the Codegen organization\n",
    "issues_result = view_sentry_issues(\n",
    "    codebase=codebase,\n",
    "    organization_slug=\"codegen-sh\",\n",
    "    status=\"unresolved\",\n",
    "    limit=5,\n",
    ")\n",
    "\n",
    "print(issues_result.render())"
   ]
  },
  {
   "cell_type": "markdown",
   "metadata": {},
   "source": [
    "## View Issue Details\n",
    "\n",
    "Now, let's view details for a specific issue. Replace `ISSUE_ID` with an actual issue ID from the previous step."
   ]
  },
  {
   "cell_type": "code",
   "execution_count": null,
   "metadata": {},
   "outputs": [],
   "source": [
    "# View details for a specific issue\n",
    "# Replace ISSUE_ID with an actual issue ID\n",
    "issue_id = \"ISSUE_ID\"\n",
    "\n",
    "issue_result = view_sentry_issue_details(\n",
    "    codebase=codebase,\n",
    "    issue_id=issue_id,\n",
    "    organization_slug=\"codegen-sh\",\n",
    "    limit=3,\n",
    ")\n",
    "\n",
    "print(issue_result.render())"
   ]
  },
  {
   "cell_type": "markdown",
   "metadata": {},
   "source": [
    "## View Event Details\n",
    "\n",
    "Finally, let's view details for a specific event. Replace `EVENT_ID` with an actual event ID from the previous step."
   ]
  },
  {
   "cell_type": "code",
   "execution_count": null,
   "metadata": {},
   "outputs": [],
   "source": [
    "# View details for a specific event\n",
    "# Replace EVENT_ID with an actual event ID\n",
    "event_id = \"EVENT_ID\"\n",
    "\n",
    "event_result = view_sentry_event_details(\n",
    "    codebase=codebase,\n",
    "    event_id=event_id,\n",
    "    organization_slug=\"codegen-sh\",\n",
    "    project_slug=\"codegen\",\n",
    ")\n",
    "\n",
    "print(event_result.render())"
   ]
  },
  {
   "cell_type": "markdown",
   "metadata": {},
   "source": [
    "## Using the LangChain Tools\n",
    "\n",
    "You can also use the LangChain tools directly in an agent."
   ]
  },
  {
   "cell_type": "code",
   "execution_count": null,
   "metadata": {},
   "outputs": [],
   "source": [
    "from codegen.extensions.langchain.sentry_tools import (\n",
    "    ViewSentryIssuesTool,\n",
    "    ViewSentryIssueDetailsTool,\n",
    "    ViewSentryEventDetailsTool,\n",
    "    ViewSentryTool,\n",
    ")\n",
    "\n",
    "# Initialize the tools\n",
    "view_issues_tool = ViewSentryIssuesTool(codebase)\n",
    "view_issue_tool = ViewSentryIssueDetailsTool(codebase)\n",
    "view_event_tool = ViewSentryEventDetailsTool(codebase)\n",
    "view_sentry_tool = ViewSentryTool(codebase)\n",
    "\n",
    "# Example usage of the combined tool\n",
    "result = view_sentry_tool._run(\n",
    "    action=\"view_issues\",\n",
    "    organization_slug=\"codegen-sh\",\n",
    "    status=\"unresolved\",\n",
    "    limit=5,\n",
    ")\n",
    "\n",
    "print(result)"
   ]
  }
 ],
 "metadata": {
  "kernelspec": {
   "display_name": "Python 3",
   "language": "python",
   "name": "python3"
  },
  "language_info": {
   "codemirror_mode": {
    "name": "ipython",
    "version": 3
   },
   "file_extension": ".py",
   "mimetype": "text/x-python",
   "name": "python",
   "nbconvert_exporter": "python",
   "pygments_lexer": "ipython3",
   "version": "3.10.0"
  }
 },
 "nbformat": 4,
 "nbformat_minor": 4
}
